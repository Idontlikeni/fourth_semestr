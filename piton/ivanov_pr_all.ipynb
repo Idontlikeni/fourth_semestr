{
 "cells": [
  {
   "cell_type": "markdown",
   "id": "1ad69887",
   "metadata": {},
   "source": [
    "# Пр 8"
   ]
  },
  {
   "cell_type": "code",
   "execution_count": null,
   "id": "07bb8cf8",
   "metadata": {},
   "outputs": [],
   "source": [
    "def main(n):\n",
    "    m = int(n)\n",
    "    y = []\n",
    "    arr = [4, 1, 3, 6]\n",
    "    arr.reverse()\n",
    "    for i in arr:\n",
    "        temp = int('0b'+'1' * i, 2)\n",
    "        y.append(m & temp)\n",
    "        m = m >> i\n",
    "    indexes = [1, 2, 3, 0]\n",
    "    indexes.reverse()\n",
    "    res = 0\n",
    "    c = 0\n",
    "    for i in indexes:\n",
    "        y[i] = y[i] << c\n",
    "        res += y[i]\n",
    "        c += arr[i]\n",
    "    return hex(res)\n",
    "\n",
    "print(main('10936'))"
   ]
  },
  {
   "cell_type": "markdown",
   "id": "5b7b19e6",
   "metadata": {},
   "source": [
    "# Пр 9"
   ]
  },
  {
   "cell_type": "code",
   "execution_count": 44,
   "id": "02f83a90",
   "metadata": {},
   "outputs": [],
   "source": [
    "def main(str):\n",
    "    spl = str.split(\"\\n\")\n",
    "    res = ''\n",
    "    for i in range(len(spl)):\n",
    "        s = spl[i]\n",
    "        s.replace('begin', ' ')\n",
    "        s = s.replace(\"do\", \" \").replace('decl', ' ')\n",
    "        s = s.replace(\"q(\", \" \").replace('end', ' ')\n",
    "        s = s.replace(\".\", \" \").replace(',', ' ')\n",
    "        s = s.replace(')', ' ').replace(':=', ' ')\n",
    "        # s = s.split()\n",
    "        res += s\n",
    "    print(res)\n",
    "    result = None\n",
    "    # result = list(zip(s[::2], s[1::2]))\n",
    "    return result\n"
   ]
  },
  {
   "cell_type": "code",
   "execution_count": 45,
   "id": "dd15c07d",
   "metadata": {},
   "outputs": [
    {
     "name": "stdout",
     "output_type": "stream",
     "text": [
      "begin      aison_374   rateen_810          qudi_809    i          maxe   rila_375          ati   lage_600     \n",
      "None\n"
     ]
    }
   ],
   "source": [
    "print(main('begin do decl q(aison_374):= rateen_810. end, do decl q(qudi_809) :=\\nendi. end, do decl q(maxe) :=rila_375. end, do decl q(ati) :=\\nlage_600. end,end'))"
   ]
  },
  {
   "cell_type": "markdown",
   "id": "e2a9343b",
   "metadata": {},
   "source": [
    "# Пр 10"
   ]
  },
  {
   "cell_type": "code",
   "execution_count": null,
   "id": "5a054c5a",
   "metadata": {},
   "outputs": [],
   "source": [
    "def main(inp):\n",
    "    inp = [i for i in inp if i[0] is not None]\n",
    "    inp = [['0' if i[0] == 'Нет' else '1', *i[1].split('&')[::-1]]\n",
    "           for i in inp]\n",
    "    inp = [[row[0], row[1][:2] + ' ' + row[1][3:6] + ' ' + row[1][7:],\n",
    "            row[2].replace('[at]', '@')] for row in inp]\n",
    "    return inp\n"
   ]
  },
  {
   "cell_type": "code",
   "execution_count": 33,
   "id": "a71c9e41",
   "metadata": {},
   "outputs": [
    {
     "name": "stdout",
     "output_type": "stream",
     "text": [
      "[['0', '+7 457 943-07-82', 'satuzij62@gmail.com'], ['0', '+7 001 534-86-54', 'demid95@mail.ru'], ['1', '+7 366 130-19-10', 'katetidi21@mail.ru']]\n"
     ]
    }
   ],
   "source": [
    "print(main([[None, None], [None, None], ['Нет', 'satuzij62[at]gmail.com&+7(457)943-07-82'], ['Нет', 'demid95[at]mail.ru&+7(001)534-86-54'], ['Да', 'katetidi21[at]mail.ru&+7(366)130-19-10']]))"
   ]
  }
 ],
 "metadata": {
  "kernelspec": {
   "display_name": "Python 3",
   "language": "python",
   "name": "python3"
  },
  "language_info": {
   "codemirror_mode": {
    "name": "ipython",
    "version": 3
   },
   "file_extension": ".py",
   "mimetype": "text/x-python",
   "name": "python",
   "nbconvert_exporter": "python",
   "pygments_lexer": "ipython3",
   "version": "3.13.2"
  }
 },
 "nbformat": 4,
 "nbformat_minor": 5
}
